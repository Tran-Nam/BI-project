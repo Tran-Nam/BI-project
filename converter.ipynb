{
 "cells": [
  {
   "cell_type": "code",
   "execution_count": 1,
   "id": "9615cfc1",
   "metadata": {},
   "outputs": [
    {
     "name": "stderr",
     "output_type": "stream",
     "text": [
      "21/10/03 17:31:13 WARN Utils: Your hostname, hti-server resolves to a loopback address: 127.0.1.1; using 192.168.0.105 instead (on interface eno1)\n",
      "21/10/03 17:31:13 WARN Utils: Set SPARK_LOCAL_IP if you need to bind to another address\n",
      "WARNING: An illegal reflective access operation has occurred\n",
      "WARNING: Illegal reflective access by org.apache.spark.unsafe.Platform (file:/opt/anaconda3/envs/rpc/lib/python3.8/site-packages/pyspark/jars/spark-unsafe_2.12-3.1.2.jar) to constructor java.nio.DirectByteBuffer(long,int)\n",
      "WARNING: Please consider reporting this to the maintainers of org.apache.spark.unsafe.Platform\n",
      "WARNING: Use --illegal-access=warn to enable warnings of further illegal reflective access operations\n",
      "WARNING: All illegal access operations will be denied in a future release\n",
      "21/10/03 17:31:13 WARN NativeCodeLoader: Unable to load native-hadoop library for your platform... using builtin-java classes where applicable\n",
      "Using Spark's default log4j profile: org/apache/spark/log4j-defaults.properties\n",
      "Setting default log level to \"WARN\".\n",
      "To adjust logging level use sc.setLogLevel(newLevel). For SparkR, use setLogLevel(newLevel).\n"
     ]
    }
   ],
   "source": [
    "from pyspark.sql import SparkSession\n",
    "spark = SparkSession.builder.getOrCreate()"
   ]
  },
  {
   "cell_type": "code",
   "execution_count": 2,
   "id": "a544d1cc",
   "metadata": {},
   "outputs": [
    {
     "data": {
      "text/plain": [
       "14465"
      ]
     },
     "execution_count": 2,
     "metadata": {},
     "output_type": "execute_result"
    }
   ],
   "source": [
    "import numpy as np\n",
    "import math\n",
    "\n",
    "def lon2tile(lon, zoom=15):\n",
    "    if lon is None:\n",
    "        return None\n",
    "    return math.floor((lon+180)/360*(2**zoom))\n",
    "\n",
    "def lat2tile(lat, zoom=15):\n",
    "    if lat is None:\n",
    "        return None\n",
    "    return math.floor((1-math.log(math.tan(lat*np.pi/180) + 1/math.cos(lat*np.pi/180))/np.pi)/2 * (2**zoom))\n",
    "\n",
    "lat = 20.61708333\n",
    "x = lat2tile(lat)\n",
    "x"
   ]
  },
  {
   "cell_type": "code",
   "execution_count": 3,
   "id": "2ecb75b2",
   "metadata": {},
   "outputs": [],
   "source": [
    "from pyspark.sql.functions import udf\n",
    "from pyspark.sql.types import LongType, StructType\n",
    "lat2tile = udf(lat2tile, LongType())\n",
    "lon2tile = udf(lon2tile, LongType())"
   ]
  },
  {
   "cell_type": "code",
   "execution_count": 46,
   "id": "d623699f",
   "metadata": {},
   "outputs": [
    {
     "name": "stdout",
     "output_type": "stream",
     "text": [
      "+-----------+-----------+---------------+\n",
      "|   latitude|  longitude|population_2020|\n",
      "+-----------+-----------+---------------+\n",
      "|20.61708333|105.6773611|    9.926520985|\n",
      "|20.62041667|105.6893056|    9.926520985|\n",
      "+-----------+-----------+---------------+\n",
      "only showing top 2 rows\n",
      "\n"
     ]
    }
   ],
   "source": [
    "df = spark.read.option(\"inferSchema\", True).options(header=True).csv('Hanoi.csv')\n",
    "columns_to_drop = ['a1', 'a2', 'b1', 'b2', 'c1', 'c2', 'd1', 'd2']\n",
    "df = df.drop(*columns_to_drop)\n",
    "df.show(2)"
   ]
  },
  {
   "cell_type": "code",
   "execution_count": 47,
   "id": "811d69bf",
   "metadata": {},
   "outputs": [
    {
     "name": "stdout",
     "output_type": "stream",
     "text": [
      "+-----------+-----------+---------------+-----+-----+\n",
      "|   latitude|  longitude|population_2020|    x|    y|\n",
      "+-----------+-----------+---------------+-----+-----+\n",
      "|20.61708333|105.6773611|    9.926520985|26002|14465|\n",
      "|20.62041667|105.6893056|    9.926520985|26004|14465|\n",
      "+-----------+-----------+---------------+-----+-----+\n",
      "only showing top 2 rows\n",
      "\n"
     ]
    }
   ],
   "source": [
    "df = df.withColumn(\"x\", lon2tile(\"longitude\"))\n",
    "df = df.withColumn(\"y\", lat2tile(\"latitude\"))\n",
    "\n",
    "df.show(2)"
   ]
  },
  {
   "cell_type": "code",
   "execution_count": 48,
   "id": "471f9fe4",
   "metadata": {},
   "outputs": [],
   "source": [
    "from pyspark.sql.functions import col\n",
    "df = df.groupBy(\"x\", \"y\").sum(\"population_2020\")"
   ]
  },
  {
   "cell_type": "code",
   "execution_count": 49,
   "id": "0a0e6d65",
   "metadata": {},
   "outputs": [
    {
     "name": "stdout",
     "output_type": "stream",
     "text": [
      "+-----+-----+--------------------+\n",
      "|    x|    y|sum(population_2020)|\n",
      "+-----+-----+--------------------+\n",
      "|26021|14445|    4735.38082074997|\n",
      "|26002|14444|  1838.0823731899973|\n",
      "+-----+-----+--------------------+\n",
      "only showing top 2 rows\n",
      "\n"
     ]
    }
   ],
   "source": [
    "df.show(2)"
   ]
  },
  {
   "cell_type": "code",
   "execution_count": 52,
   "id": "767fb298",
   "metadata": {},
   "outputs": [],
   "source": [
    "df.toPandas().to_csv('convert_population.csv', index=False)"
   ]
  },
  {
   "cell_type": "code",
   "execution_count": null,
   "id": "c8dc7db4",
   "metadata": {},
   "outputs": [],
   "source": []
  }
 ],
 "metadata": {
  "kernelspec": {
   "display_name": "Python 3 (ipykernel)",
   "language": "python",
   "name": "python3"
  },
  "language_info": {
   "codemirror_mode": {
    "name": "ipython",
    "version": 3
   },
   "file_extension": ".py",
   "mimetype": "text/x-python",
   "name": "python",
   "nbconvert_exporter": "python",
   "pygments_lexer": "ipython3",
   "version": "3.8.0"
  }
 },
 "nbformat": 4,
 "nbformat_minor": 5
}
